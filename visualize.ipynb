{
 "cells": [
  {
   "cell_type": "code",
   "execution_count": 1,
   "metadata": {},
   "outputs": [
    {
     "name": "stdout",
     "output_type": "stream",
     "text": [
      "pygame 1.9.6\n",
      "Hello from the pygame community. https://www.pygame.org/contribute.html\n"
     ]
    }
   ],
   "source": [
    "import torch\n",
    "import gym\n",
    "import pygame\n",
    "import sys\n",
    "import time\n",
    "import matplotlib\n",
    "import pickle\n",
    "\n",
    "import matplotlib.pyplot as plt\n",
    "import matplotlib as mpl ; mpl.use(\"Agg\")\n",
    "from mpl_toolkits.axes_grid1 import ImageGrid\n",
    "\n",
    "from play import *\n",
    "from Grad_CAM import Grad_CAM\n",
    "from model import ActorCritic\n",
    "from rollout import *"
   ]
  },
  {
   "cell_type": "markdown",
   "metadata": {},
   "source": [
    "## Import Model and Get Environment"
   ]
  },
  {
   "cell_type": "code",
   "execution_count": 2,
   "metadata": {},
   "outputs": [
    {
     "name": "stdout",
     "output_type": "stream",
     "text": [
      "set up dir variables and environment...\n",
      "initialize agent and try to load saved weights...\n"
     ]
    },
    {
     "data": {
      "text/plain": [
       "<torch._C.Generator at 0x7fa118388bf0>"
      ]
     },
     "execution_count": 2,
     "metadata": {},
     "output_type": "execute_result"
    }
   ],
   "source": [
    "env_name = 'Pong-v4'\n",
    "save_dir = 'figures/'\n",
    "\n",
    "print(\"set up dir variables and environment...\")\n",
    "load_dir = 'pretrained/A3C_Pong_Full.pth'\n",
    "env = gym.make(env_name) ; env.seed(2)\n",
    "\n",
    "print(\"initialize agent and try to load saved weights...\")\n",
    "model = ActorCritic(num_inputs=1, action_space=env.action_space)\n",
    "_ = model.load_state_dict(torch.load((load_dir))) ; torch.manual_seed(2)"
   ]
  },
  {
   "cell_type": "code",
   "execution_count": 3,
   "metadata": {},
   "outputs": [
    {
     "name": "stdout",
     "output_type": "stream",
     "text": [
      "get a rollout of the policy...\n"
     ]
    }
   ],
   "source": [
    "print(\"get a rollout of the policy...\")\n",
    "history = rollout(model, env, max_ep_len=3e3)"
   ]
  },
  {
   "cell_type": "markdown",
   "metadata": {},
   "source": [
    "## Plot a State Frame"
   ]
  },
  {
   "cell_type": "code",
   "execution_count": 4,
   "metadata": {},
   "outputs": [
    {
     "data": {
      "image/png": "[encoded data removed]",
      "text/plain": [
       "<Figure size 216x280.8 with 1 Axes>"
      ]
     },
     "metadata": {
      "needs_background": "light"
     },
     "output_type": "display_data"
    }
   ],
   "source": [
    "f = plt.figure(figsize=[3,3*1.3])\n",
    "frame_ix=300\n",
    "plt.imshow(history['ins'][frame_ix])\n",
    "for a in f.axes: a.get_xaxis().set_visible(False) ; a.get_yaxis().set_visible(False)\n",
    "plt.show(f)"
   ]
  },
  {
   "cell_type": "markdown",
   "metadata": {},
   "source": [
    "## Create Grad-CAM Model"
   ]
  },
  {
   "cell_type": "code",
   "execution_count": 5,
   "metadata": {},
   "outputs": [
    {
     "name": "stdout",
     "output_type": "stream",
     "text": [
      "['NOOP', 'FIRE', 'RIGHT', 'LEFT', 'RIGHTFIRE', 'LEFTFIRE']\n"
     ]
    }
   ],
   "source": [
    "gcam = Grad_CAM(model=model)\n",
    "actions = env.unwrapped.get_action_meanings()\n",
    "print(actions)"
   ]
  },
  {
   "cell_type": "code",
   "execution_count": 6,
   "metadata": {},
   "outputs": [
    {
     "name": "stdout",
     "output_type": "stream",
     "text": [
      "probs: tensor([0.1911, 0.1827, 0.1705, 0.1702, 0.1502, 0.1352])   ids: NOOP\n"
     ]
    }
   ],
   "source": [
    "# get input\n",
    "tens_state = torch.Tensor(prepro(history['ins'][frame_ix]))\n",
    "state = Variable(tens_state.unsqueeze(0), requires_grad=True)\n",
    "hx = Variable(torch.Tensor(history['hx'][frame_ix-1]).view(1,-1))\n",
    "cx = Variable(torch.Tensor(history['cx'][frame_ix-1]).view(1,-1))\n",
    "\n",
    "# forward pass\n",
    "probs, ids = gcam.forward(state, (hx, cx))\n",
    "print('probs: {0}   ids: {1}'.format(probs, actions[ids[0]]))"
   ]
  },
  {
   "cell_type": "markdown",
   "metadata": {},
   "source": [
    "### Generate Grad-CAM heatmap for a single frame"
   ]
  },
  {
   "cell_type": "code",
   "execution_count": 7,
   "metadata": {},
   "outputs": [],
   "source": [
    "# generate heatmap w.r.t. top predicted action\n",
    "gcam.backward(idx=ids[0])\n",
    "regions = gcam.generate(target_layer='features.elu4')"
   ]
  },
  {
   "cell_type": "markdown",
   "metadata": {},
   "source": [
    "## Visualize"
   ]
  },
  {
   "cell_type": "code",
   "execution_count": 8,
   "metadata": {},
   "outputs": [],
   "source": [
    "import cv2\n",
    "def get_cam(img, mask):\n",
    "\n",
    "    '''\n",
    "    Place MASK heatmap on IMG\n",
    "    '''\n",
    "    h, w, _ = img.shape\n",
    "    mask = cv2.resize(mask, (w, h))\n",
    "    heatmap = cv2.cvtColor(cv2.applyColorMap(np.uint8((mask / np.max(mask)) * 255.0), cv2.COLORMAP_JET),\n",
    "                           cv2.COLOR_BGR2RGB)\n",
    "    alpha = .5\n",
    "    cam = heatmap*alpha + np.float32(img)*(1-alpha)\n",
    "    cam /= np.max(cam)\n",
    "    return cam "
   ]
  },
  {
   "cell_type": "code",
   "execution_count": 10,
   "metadata": {},
   "outputs": [
    {
     "data": {
      "image/png": "[encoded data removed]",
      "text/plain": [
       "<Figure size 720x720 with 4 Axes>"
      ]
     },
     "metadata": {
      "needs_background": "light"
     },
     "output_type": "display_data"
    }
   ],
   "source": [
    "img = history['ins'][frame_ix]\n",
    "cam = get_cam(img[35:195], regions)\n",
    "\n",
    "fig = plt.figure(figsize=(10, 10))\n",
    "grid = ImageGrid(fig, 111,  # similar to subplot(111)\n",
    "                 nrows_ncols=(1, 2),\n",
    "                 axes_pad=0.3,  # pad between axes in inch.\n",
    "                 )\n",
    "\n",
    "for ax, im in zip(grid, [img[35:195],cam]):\n",
    "    ax.axis('off')\n",
    "    ax.imshow(im)"
   ]
  },
  {
   "cell_type": "code",
   "execution_count": null,
   "metadata": {},
   "outputs": [],
   "source": []
  }
 ],
 "metadata": {
  "kernelspec": {
   "display_name": "Python 3",
   "language": "python",
   "name": "python3"
  },
  "language_info": {
   "codemirror_mode": {
    "name": "ipython",
    "version": 3
   },
   "file_extension": ".py",
   "mimetype": "text/x-python",
   "name": "python",
   "nbconvert_exporter": "python",
   "pygments_lexer": "ipython3",
   "version": "3.6.8"
  },
  "pycharm": {
   "stem_cell": {
    "cell_type": "raw",
    "metadata": {
     "collapsed": false
    },
    "source": []
   }
  }
 },
 "nbformat": 4,
 "nbformat_minor": 4
}
